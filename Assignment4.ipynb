{
 "cells": [
  {
   "cell_type": "code",
   "execution_count": null,
   "id": "ecf7f103",
   "metadata": {},
   "outputs": [],
   "source": [
    "# Datatypes and Variables \n",
    "\n",
    "# 1. Assign values to variables and print their datatypes\n",
    "var1 = 18\n",
    "var2 = \"numbers\"\n",
    "var3 = 12.5\n",
    "\n",
    "print(type(var1))\n",
    "print(type(var2))\n",
    "print(type(var3))\n",
    "\n",
    "# 2. Formatted printing\n",
    "print(f\"{var1} and {var3} are numbers\")\n",
    "\n",
    "# 3. Casting variables to different types\n",
    "var1_int = int(var3)\n",
    "var2_bool = bool(var2)\n",
    "var3_str = str(var1)\n",
    "\n",
    "print(type(var1_int), var1_int)\n",
    "print(type(var2_bool), var2_bool)\n",
    "print(type(var3_str), var3_str)\n",
    "\n",
    "# 4. Comparing strings\n",
    "str1 = 'games'\n",
    "str2 = 'Games'\n",
    "\n",
    "print(f\"Are '{str1}' and '{str2}' equal? {str1 == str2}\")\n"
   ]
  },
  {
   "cell_type": "code",
   "execution_count": null,
   "id": "b51ee960",
   "metadata": {},
   "outputs": [],
   "source": [
    "# 5. Assigning a value to a variable\n",
    "# The assignment 'name = Einstein' doesn't work because 'Einstein' is a string and should be enclosed in quotation marks.\n",
    "name = Einstein  # This line will raise a NameError "
   ]
  },
  {
   "cell_type": "code",
   "execution_count": null,
   "id": "4bcb1369-7495-4a87-afd0-c270f309b48d",
   "metadata": {
    "scrolled": true
   },
   "outputs": [],
   "source": [
    "# Math Operator \n",
    "# 1. Assign values to variables \n",
    "e = 2.71828 \n",
    "x = 2 \n",
    "y = 1.5 \n",
    "z = 4 \n",
    "\n",
    "# (a) Calculate √(z) / y + x \n",
    "result_a = (z ** 0.5) / y + x \n",
    "\n",
    "# (b) Calculate (x + y) ^ 2 \n",
    "result_b = (x + y) ** 2 \n",
    "\n",
    "# (c) Calculate e ^ (-2x(y+x)) \n",
    "result_c = e ** (-2 * x * (y + x)) \n",
    "\n",
    "# Print results \n",
    "print(\"Result for (a):\", result_a) \n",
    "print(\"Result for (b):\", result_b) \n",
    "print(\"Result for (c):\", result_c) \n"
   ]
  },
  {
   "cell_type": "code",
   "execution_count": null,
   "id": "ad103883",
   "metadata": {},
   "outputs": [],
   "source": [
    "# Write a program to calculate BMI \n",
    "height_inches = float(input(\"Enter your height in inches: \")) \n",
    "weight_pounds = float(input(\"Enter your weight in pounds: \")) \n",
    "\n",
    "# Convert height from inches to meters \n",
    "height_meters = height_inches * 0.0254  # 1 inch = 0.0254 meters \n",
    "\n",
    "# Convert weight from pounds to kilograms \n",
    "weight_kg = weight_pounds * 0.453592  # 1 pound = 0.453592 kilograms \n",
    "\n",
    "# Calculate BMI \n",
    "bmi = weight_kg / (height_meters ** 2) \n",
    "\n",
    "# Print BMI \n",
    "print(\"Your BMI is:\", bmi) \n"
   ]
  },
  {
   "cell_type": "code",
   "execution_count": null,
   "id": "dbced368",
   "metadata": {},
   "outputs": [],
   "source": [
    "# Get coefficients from the user \n",
    "a = float(input(\"Enter the coefficient a: \")) \n",
    "b = float(input(\"Enter the coefficient b: \")) \n",
    "c = float(input(\"Enter the coefficient c: \")) \n",
    "\n",
    "# Calculate discriminant \n",
    "discriminant = (b ** 2) - (4 * a * c) \n",
    "\n",
    "# Compute roots\n",
    "root1 = (-b + cmath.sqrt(discriminant)) / (2 * a) \n",
    "root2 = (-b - cmath.sqrt(discriminant)) / (2 * a) \n",
    "\n",
    "# Print roots \n",
    "print(\"The roots of the quadratic equation are:\") \n",
    "print(\"Root 1:\", root1) \n",
    "print(\"Root 2:\", root2) \n"
   ]
  },
  {
   "cell_type": "code",
   "execution_count": null,
   "id": "4326fcd1",
   "metadata": {},
   "outputs": [],
   "source": [
    "# Lists\n",
    "# Task 1: Create a list with 10 numbers\n",
    "my_list = [5, 3, 8, 1, 9, 6, 4, 7, 2, 10]\n",
    "\n",
    "# 1. Print all elements of my_list except the last element\n",
    "print(\"Elements of my_list except the last element:\", my_list[:-1])\n"
   ]
  },
  {
   "cell_type": "code",
   "execution_count": null,
   "id": "bb8cbd2c",
   "metadata": {},
   "outputs": [],
   "source": [
    "# 2. Store the 1st and 6th elements of my_list to variables x and y\n",
    "x = my_list[0]\n",
    "y = my_list[5]\n",
    "# Add x and y, and find the square root of this sum\n",
    "sum_sqrt = math.sqrt(x + y)\n",
    "print(\"Square root of the sum of x and y:\", sum_sqrt)\n"
   ]
  },
  {
   "cell_type": "code",
   "execution_count": null,
   "id": "c004323a",
   "metadata": {},
   "outputs": [],
   "source": [
    "# 3. Create an empty list and call it list_2\n",
    "list_2 = []\n",
    "\n",
    "# Add x, y, and the result of the summation and square root to list_2\n",
    "list_2.extend([x, y, sum_sqrt])\n",
    "print(\"List_2 after adding x, y, and sum_sqrt:\", list_2)\n"
   ]
  },
  {
   "cell_type": "code",
   "execution_count": null,
   "id": "853edcc0",
   "metadata": {},
   "outputs": [],
   "source": [
    "# 4. Reverse the order of list_2 and print it\n",
    "list_2.reverse()\n",
    "print(\"Reversed list_2:\", list_2)\n"
   ]
  },
  {
   "cell_type": "code",
   "execution_count": null,
   "id": "76ba1b5c",
   "metadata": {},
   "outputs": [],
   "source": [
    "# 5. Extract the values in the odd-numbered indexes of my_list\n",
    "odd_indexed_list = my_list[1::2]\n",
    "print(\"Values in odd-numbered indexes of my_list:\", odd_indexed_list)\n"
   ]
  },
  {
   "cell_type": "code",
   "execution_count": null,
   "id": "24bb245d",
   "metadata": {},
   "outputs": [],
   "source": [
    "# 6. Sort odd indexed list in ascending order and print the result\n",
    "odd_indexed_list.sort()\n",
    "print(\"Sorted odd indexed list:\", odd_indexed_list)\n"
   ]
  },
  {
   "cell_type": "code",
   "execution_count": null,
   "id": "b1ab89a5",
   "metadata": {},
   "outputs": [],
   "source": [
    "# 7. Extend odd_indexed_list by adding 3 more numbers to it\n",
    "odd_indexed_list.extend([11, 13, 15])\n",
    "print(\"Extended odd indexed list:\", odd_indexed_list)\n",
    "print(\"Length of extended odd indexed list:\", len(odd_indexed_list)) \n"
   ]
  },
  {
   "cell_type": "code",
   "execution_count": null,
   "id": "4ad0bb32",
   "metadata": {},
   "outputs": [],
   "source": [
    "# 8. Delete my_list\n",
    "del my_list "
   ]
  },
  {
   "cell_type": "code",
   "execution_count": null,
   "id": "263b7f35",
   "metadata": {},
   "outputs": [],
   "source": [
    "# Random Library\n",
    "# Task 1: Randomly select pizza toppings\n",
    "pizza_toppings = [\"pepperoni\", \"olives\", \"onions\", \"sausage\", \"bell peppers\", \"pineapple\", \"ham\", \"mushrooms\", \"spinach\", \"garlic\"]\n",
    "selected_toppings = random.sample(pizza_toppings, 3)\n",
    "print(\"Tonight's pizza toppings:\", selected_toppings)\n"
   ]
  },
  {
   "cell_type": "code",
   "execution_count": null,
   "id": "148636d5",
   "metadata": {},
   "outputs": [],
   "source": [
    "# Task 2: Randomly select a restaurant\n",
    "restaurants = [\"Last Resort Grill: $$$\", \"Cali n Tito’s: $$\", \"Restaurant3: $\", \"Gyro Wrap: $$\", \"Big City Bread Cafe: $$$\"]\n",
    "random.shuffle(restaurants)\n",
    "selected_restaurant = restaurants[0]\n",
    "print(\"Today’s dinner: \", selected_restaurant)\n"
   ]
  },
  {
   "cell_type": "code",
   "execution_count": null,
   "id": "81cddf68",
   "metadata": {},
   "outputs": [],
   "source": [
    "# Task 3: Randomly select an outdoor activity\n",
    "outdoor_activities = [\"soccer\", \"hiking\", \"biking\", \"kayaking\", \"rock climbing\", \"picnicking\", \"swimming\", \"fishing\", \"running\", \"camping\"]\n",
    "selected_activity = random.choice(outdoor_activities)\n",
    "print(\"This weekend's activity:\", selected_activity)\n"
   ]
  }
 ],
 "metadata": {
  "kernelspec": {
   "display_name": "Python 3 (ipykernel)",
   "language": "python",
   "name": "python3"
  },
  "language_info": {
   "codemirror_mode": {
    "name": "ipython",
    "version": 3
   },
   "file_extension": ".py",
   "mimetype": "text/x-python",
   "name": "python",
   "nbconvert_exporter": "python",
   "pygments_lexer": "ipython3",
   "version": "3.11.5"
  }
 },
 "nbformat": 4,
 "nbformat_minor": 5
}
