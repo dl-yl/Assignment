{
 "cells": [
  {
   "cell_type": "code",
   "execution_count": null,
   "id": "ad103883",
   "metadata": {},
   "outputs": [],
   "source": [
    "# 1\n",
    "import numpy as np\n",
    "import matplotlib.pyplot as plt\n",
    "\n",
    "def func(x):\n",
    "    return 4 * x ** 2 + 2\n",
    "x_values = np.linspace(-20, 20, 400)\n",
    "y_values = func(x_values)\n",
    "\n",
    "plt.plot(x_values, y_values, label='y = 4x^2 + 2')\n",
    "plt.title('Plot of y = 4x^2 + 2')\n",
    "plt.xlabel('x')\n",
    "plt.ylabel('y')\n",
    "plt.xticks(np.arange(-20, 21, 5))\n",
    "plt.grid(True)\n",
    "plt.legend()\n",
    "plt.show()\n"
   ]
  },
  {
   "cell_type": "code",
   "execution_count": null,
   "id": "39ab0d0b",
   "metadata": {},
   "outputs": [],
   "source": [
    "# 2 \n",
    "import numpy as np\n",
    "import matplotlib.pyplot as plt\n",
    "\n",
    "np.random.seed(0)\n",
    "x_values = np.random.randint(0, 101, 100)\n",
    "y_values = np.random.randint(0, 101, 100)\n",
    "\n",
    "plt.scatter(x_values, y_values, color='blue', edgecolor='red', marker='o', label='Random Points')\n",
    "plt.title('Scatter Plot of 100 Random Points')\n",
    "plt.xlabel('X')\n",
    "plt.ylabel('Y')\n",
    "plt.legend()\n",
    "plt.grid(True)\n",
    "plt.show()\n"
   ]
  },
  {
   "cell_type": "code",
   "execution_count": null,
   "id": "89c8af26",
   "metadata": {},
   "outputs": [],
   "source": [
    "# 3\n",
    "import matplotlib.pyplot as plt\n",
    "\n",
    "teams = ['LSU', 'Ole Miss', 'Georgia', 'Missouri', 'Tennessee']\n",
    "points = [45.29, 41.67, 40.14, 33.86, 33.50]\n",
    "colors = ['blue', 'green', 'red', 'yellow', 'brown']\n",
    "plt.figure(figsize=(10, 6)) \n",
    "\n",
    "bars = plt.bar(teams, points, color = colors)\n",
    "\n",
    "plt.title('Top 5 SEC College Football Teams by Total Points per Game')\n",
    "plt.xlabel('Teams')\n",
    "plt.ylabel('Total Points per Game')\n",
    "\n",
    "for bar, color in zip(bars, colors):\n",
    "    bar.set_edgecolor('black')\n",
    "    bar.set_linewidth(1)\n",
    "    bar.set_alpha(0.7)\n",
    "plt.tight_layout()\n",
    "plt.show()\n"
   ]
  },
  {
   "cell_type": "code",
   "execution_count": null,
   "id": "8b28589e",
   "metadata": {},
   "outputs": [],
   "source": [
    "# 4\n",
    "import numpy as np\n",
    "import matplotlib.pyplot as plt\n",
    "x = np.linspace(-10, 10, 400)\n",
    "\n",
    "parameters = [(1, 2), (-2, 3), (3, -1), (-1, 0)]\n",
    "fig, axs = plt.subplots(2, 2, figsize=(10, 8))\n",
    "for i, (a, c) in enumerate(parameters):\n",
    "    row = i // 2\n",
    "    col = i % 2\n",
    "    y = a * x**2 + c\n",
    "    axs[row, col].plot(x, y, label=f'y = {a}x^2 + {c}', color='blue')\n",
    "    axs[row, col].set_title(f'a = {a}, c = {c}')\n",
    "    axs[row, col].set_xlabel('x')\n",
    "    axs[row, col].set_ylabel('y')\n",
    "    axs[row, col].legend()\n",
    "\n",
    "plt.tight_layout()\n",
    "plt.show()\n",
    "\n"
   ]
  }
 ],
 "metadata": {
  "kernelspec": {
   "display_name": "Python 3 (ipykernel)",
   "language": "python",
   "name": "python3"
  },
  "language_info": {
   "codemirror_mode": {
    "name": "ipython",
    "version": 3
   },
   "file_extension": ".py",
   "mimetype": "text/x-python",
   "name": "python",
   "nbconvert_exporter": "python",
   "pygments_lexer": "ipython3",
   "version": "3.11.5"
  }
 },
 "nbformat": 4,
 "nbformat_minor": 5
}
