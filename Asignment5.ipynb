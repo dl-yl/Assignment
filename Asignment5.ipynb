{
 "cells": [
  {
   "cell_type": "code",
   "execution_count": null,
   "id": "4bcb1369-7495-4a87-afd0-c270f309b48d",
   "metadata": {
    "scrolled": true
   },
   "outputs": [],
   "source": [
    "\n",
    "# 1\n",
    "user_input = input(\"Enter a word: \").strip().lower()\n",
    "is_palindrome = user_input == user_input[::-1]\n",
    "print(is_palindrome)"
   ]
  },
  {
   "cell_type": "code",
   "execution_count": null,
   "id": "ad103883",
   "metadata": {},
   "outputs": [],
   "source": [
    "# 2\n",
    "import random \n",
    "import string \n",
    "\n",
    "length = int(input(\"Enter the length of password: \")) \n",
    "password_characters = string.ascii_letters + string.digits + string.punctuation \n",
    "password = ''.join(random.choice(password_characters) for _ in range(length)) \n",
    "print(\"Generated Password:\", password) \n"
   ]
  },
  {
   "cell_type": "code",
   "execution_count": null,
   "id": "dbced368",
   "metadata": {},
   "outputs": [],
   "source": [
    "# 3\n",
    "name = input(\"Enter your name: \") \n",
    "age = int(input(\"Enter your age: \")) \n",
    "\n",
    "current_year = 2024 \n",
    "year_100 = current_year + (100 - age) \n",
    "\n",
    "print(\"Hello\", name + \"!\", \"You will turn 100 in the year\", year_100) \n"
   ]
  },
  {
   "cell_type": "code",
   "execution_count": null,
   "id": "fdb8fe23",
   "metadata": {},
   "outputs": [],
   "source": [
    "# 4\n",
    "statement = f'\"The world is round\", said the quick brown fox, ’and the ocean is blue’, said the lazy dog'\n",
    "print(statement)\n"
   ]
  },
  {
   "cell_type": "code",
   "execution_count": null,
   "id": "12d19f4e",
   "metadata": {},
   "outputs": [],
   "source": [
    "# 5 \n",
    "numerator = float(input(\"Enter the numerator: \"))\n",
    "denominator = float(input(\"Enter the denominator: \"))\n",
    "\n",
    "result = numerator / denominator\n",
    "\n",
    "print(f\"{result:+.2f}\")\n"
   ]
  },
  {
   "cell_type": "code",
   "execution_count": null,
   "id": "256a11a6",
   "metadata": {},
   "outputs": [],
   "source": [
    "# 6\n",
    "\n",
    "def input_matrix(rows, cols):\n",
    "    matrix = []\n",
    "    print(f\"Enter {rows} rows and {cols} columns for the matrix:\")\n",
    "    for i in range(rows):\n",
    "        row = list(map(int, input().split()))\n",
    "        if len(row) != cols:\n",
    "            print(\"Invalid number of elements in the row. Please try again.\")\n",
    "            return input_matrix(rows, cols)\n",
    "        matrix.append(row)\n",
    "    return matrix\n",
    "\n",
    "def dot_product(matrix1, matrix2):\n",
    "    result_matrix = []\n",
    "    for i in range(len(matrix1)):\n",
    "        row = []\n",
    "        for j in range(len(matrix2[0])):\n",
    "            sum_val = 0\n",
    "            for k in range(len(matrix2)):\n",
    "                sum_val += matrix1[i][k] * matrix2[k][j]\n",
    "            row.append(sum_val)\n",
    "        result_matrix.append(row)\n",
    "    return result_matrix\n",
    "\n",
    "# Input the size of the first matrix\n",
    "rows1 = int(input(\"Enter the number of rows for the first matr1ix: \"))\n",
    "cols1 = int(input(\"Enter the number of columns for the first matrix: \"))\n",
    "\n",
    "# Input the elements of the first matrix\n",
    "matrix1 = input_matrix(rows1, cols1)\n",
    "\n",
    "# Input the dimensions of the second matrix\n",
    "rows2 = int(input(\"Enter the number of rows for the second matrix: \"))\n",
    "cols2 = int(input(\"Enter the number of columns for the second matrix: \"))\n",
    "\n",
    "# Input the elements of the second matrix\n",
    "matrix2 = input_matrix(rows2, cols2)\n",
    "\n",
    "# Check if the matrices can be multiplied\n",
    "if cols1 != rows2:\n",
    "    print(\"Matrices cannot be multiplied. Number of columns of the first matrix must be equal to the number of rows of the second matrix.\")\n",
    "else:\n",
    "    result_matrix = dot_product(matrix1, matrix2)\n",
    "    print(\"The dot product of the matrices is:\")\n",
    "    for row in result_matrix:\n",
    "        print(row)\n",
    "\n"
   ]
  },
  {
   "cell_type": "code",
   "execution_count": null,
   "id": "6bc81322",
   "metadata": {},
   "outputs": [],
   "source": [
    "# 7 \n",
    "names = [\"Phil\", \"Oz\", \"Seuss\", \"Dre\", \"Johnsen\", \"Morelock\"] \n",
    "\n",
    "updated_docs = [] \n",
    "for name in names: \n",
    "    updated_name = \"Dr.\" + name \n",
    "    updated_docs.append(updated_name) \n",
    " \n",
    "print(updated_docs) "
   ]
  }
 ],
 "metadata": {
  "kernelspec": {
   "display_name": "Python 3 (ipykernel)",
   "language": "python",
   "name": "python3"
  },
  "language_info": {
   "codemirror_mode": {
    "name": "ipython",
    "version": 3
   },
   "file_extension": ".py",
   "mimetype": "text/x-python",
   "name": "python",
   "nbconvert_exporter": "python",
   "pygments_lexer": "ipython3",
   "version": "3.11.5"
  }
 },
 "nbformat": 4,
 "nbformat_minor": 5
}
