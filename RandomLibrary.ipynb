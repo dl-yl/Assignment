{
 "cells": [
  {
   "cell_type": "code",
   "execution_count": null,
   "id": "4bcb1369-7495-4a87-afd0-c270f309b48d",
   "metadata": {
    "scrolled": true
   },
   "outputs": [],
   "source": [
    "# 1. Assign values to variables \n",
    "e = 2.71828 \n",
    "x = 2 \n",
    "y = 1.5 \n",
    "z = 4 \n",
    "\n",
    "# (a) Calculate √(z) / y + x \n",
    "result_a = (z ** 0.5) / y + x \n",
    "\n",
    "# (b) Calculate (x + y) ^ 2 \n",
    "result_b = (x + y) ** 2 \n",
    "\n",
    "# (c) Calculate e ^ (-2x(y+x)) \n",
    "result_c = e ** (-2 * x * (y + x)) \n",
    "\n",
    "# Print results \n",
    "print(\"Result for (a):\", result_a) \n",
    "print(\"Result for (b):\", result_b) \n",
    "print(\"Result for (c):\", result_c) \n"
   ]
  },
  {
   "cell_type": "code",
   "execution_count": null,
   "id": "ad103883",
   "metadata": {},
   "outputs": [],
   "source": [
    "# Write a program to calculate BMI \n",
    "height_inches = float(input(\"Enter your height in inches: \")) \n",
    "weight_pounds = float(input(\"Enter your weight in pounds: \")) \n",
    "\n",
    "# Convert height from inches to meters \n",
    "height_meters = height_inches * 0.0254  # 1 inch = 0.0254 meters \n",
    "\n",
    "# Convert weight from pounds to kilograms \n",
    "weight_kg = weight_pounds * 0.453592  # 1 pound = 0.453592 kilograms \n",
    "\n",
    "# Calculate BMI \n",
    "bmi = weight_kg / (height_meters ** 2) \n",
    "\n",
    "# Print BMI \n",
    "print(\"Your BMI is:\", bmi) \n"
   ]
  },
  {
   "cell_type": "code",
   "execution_count": null,
   "id": "dbced368",
   "metadata": {},
   "outputs": [],
   "source": [
    "# Get coefficients from the user \n",
    "a = float(input(\"Enter the coefficient a: \")) \n",
    "b = float(input(\"Enter the coefficient b: \")) \n",
    "c = float(input(\"Enter the coefficient c: \")) \n",
    "\n",
    "# Calculate discriminant \n",
    "discriminant = (b ** 2) - (4 * a * c) \n",
    "\n",
    "# Compute roots\n",
    "root1 = (-b + cmath.sqrt(discriminant)) / (2 * a) \n",
    "root2 = (-b - cmath.sqrt(discriminant)) / (2 * a) \n",
    "\n",
    "# Print roots \n",
    "print(\"The roots of the quadratic equation are:\") \n",
    "print(\"Root 1:\", root1) \n",
    "print(\"Root 2:\", root2) \n"
   ]
  }
 ],
 "metadata": {
  "kernelspec": {
   "display_name": "Python 3 (ipykernel)",
   "language": "python",
   "name": "python3"
  },
  "language_info": {
   "codemirror_mode": {
    "name": "ipython",
    "version": 3
   },
   "file_extension": ".py",
   "mimetype": "text/x-python",
   "name": "python",
   "nbconvert_exporter": "python",
   "pygments_lexer": "ipython3",
   "version": "3.11.5"
  }
 },
 "nbformat": 4,
 "nbformat_minor": 5
}
