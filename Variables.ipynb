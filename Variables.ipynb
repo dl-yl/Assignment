{
 "cells": [
  {
   "cell_type": "code",
   "execution_count": null,
   "id": "4bcb1369-7495-4a87-afd0-c270f309b48d",
   "metadata": {
    "scrolled": true
   },
   "outputs": [],
   "source": [
    "# 1. Assign values to variables and print their datatypes\n",
    "var1 = 18\n",
    "var2 = \"numbers\"\n",
    "var3 = 12.5\n",
    "\n",
    "print(type(var1))\n",
    "print(type(var2))\n",
    "print(type(var3))\n",
    "\n",
    "# 2. Formatted printing\n",
    "print(f\"{var1} and {var3} are numbers\")\n",
    "\n",
    "# 3. Casting variables to different types\n",
    "var1_int = int(var3)\n",
    "var2_bool = bool(var2)\n",
    "var3_str = str(var1)\n",
    "\n",
    "print(type(var1_int), var1_int)\n",
    "print(type(var2_bool), var2_bool)\n",
    "print(type(var3_str), var3_str)\n",
    "\n",
    "# 4. Comparing strings\n",
    "str1 = 'games'\n",
    "str2 = 'Games'\n",
    "\n",
    "print(f\"Are '{str1}' and '{str2}' equal? {str1 == str2}\")"
   ]
  },
  {
   "cell_type": "code",
   "execution_count": null,
   "id": "ad103883",
   "metadata": {},
   "outputs": [],
   "source": [
    "# 5. Assigning a value to a variable\n",
    "# The assignment 'name = Einstein' doesn't work because 'Einstein' is a string and should be enclosed in quotation marks.\n",
    "name = Einstein  # This line will raise a NameError"
   ]
  }
 ],
 "metadata": {
  "kernelspec": {
   "display_name": "Python 3 (ipykernel)",
   "language": "python",
   "name": "python3"
  },
  "language_info": {
   "codemirror_mode": {
    "name": "ipython",
    "version": 3
   },
   "file_extension": ".py",
   "mimetype": "text/x-python",
   "name": "python",
   "nbconvert_exporter": "python",
   "pygments_lexer": "ipython3",
   "version": "3.11.5"
  }
 },
 "nbformat": 4,
 "nbformat_minor": 5
}
