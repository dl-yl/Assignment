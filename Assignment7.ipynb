{
 "cells": [
  {
   "cell_type": "code",
   "execution_count": null,
   "id": "ad103883",
   "metadata": {},
   "outputs": [],
   "source": [
    "# 1\n",
    "with open('my_file.txt', 'r') as file: \n",
    "    for line in file: \n",
    "        print(line.strip()) \n"
   ]
  },
  {
   "cell_type": "code",
   "execution_count": null,
   "id": "0ff024b0",
   "metadata": {},
   "outputs": [],
   "source": [
    "# 2\n",
    "color = ['Red', 'Green', 'White', 'Black', 'Pink', 'Yellow']\n",
    "\n",
    "with open(\"color list file.txt\", \"w\") as file: \n",
    "    for c in color:\n",
    "        file.write(c + \"\\n\")\n"
   ]
  },
  {
   "cell_type": "code",
   "execution_count": null,
   "id": "e834ee84",
   "metadata": {},
   "outputs": [],
   "source": [
    "# 3\n",
    "people = [] \n",
    "\n",
    "for _ in range(5): \n",
    "    name = input(\"Enter your name: \") \n",
    "    age = input(\"Enter your age: \") \n",
    "    people.append({\"name\": name, \"age\": age}) \n",
    "\n",
    "with open(\"data.txt\", \"w\") as file: \n",
    "    for person in people: \n",
    "        file.write(f\"{person['name']},{person['age']}\\n\") \n",
    "\n",
    "print(\"\\nStored Data:\") \n",
    "with open(\"data.txt\", \"r\") as file: \n",
    "    for line in file: \n",
    "        name, age = line.strip().split(',') \n",
    "        print(f\"Name: {name}, Age: {age}\") \n"
   ]
  },
  {
   "cell_type": "code",
   "execution_count": null,
   "id": "7dc86251",
   "metadata": {},
   "outputs": [],
   "source": [
    "# 4\n",
    "initial_lines = [\"line1\\n\", \"line2\\n\", \"line3\\n\"]\n",
    "with open(\"lines.txt\", \"w\") as file:\n",
    "    file.writelines(initial_lines)\n",
    "\n",
    "with open(\"lines.txt\", \"r\") as file:\n",
    "    lines = file.readlines()\n",
    "\n",
    "lines.reverse()  # Now lines are line3, line2, line1\n",
    "lines.insert(1, \"this line has been inserted via Python code\\n\")  # Insert after line3\n",
    "\n",
    "with open(\"lines.txt\", \"w\") as file:\n",
    "    file.writelines(lines)\n",
    "\n",
    "with open(\"lines.txt\", \"r\") as file:\n",
    "    print(file.read())\n"
   ]
  },
  {
   "cell_type": "markdown",
   "id": "54a6e20c",
   "metadata": {},
   "source": [
    "2 Functions and List Comprehensions"
   ]
  },
  {
   "cell_type": "code",
   "execution_count": null,
   "id": "4a097226",
   "metadata": {},
   "outputs": [],
   "source": [
    "# 1 \n",
    "def odd_Cube_root(number): \n",
    "    if number > 0 and number % 2 != 0: \n",
    "        return number ** (1/3) \n",
    "    else: \n",
    "        if number == 0:\n",
    "            print(\"The number is zero.\") \n",
    "        elif number < 0: \n",
    "            print(\"The number is negative.\")\n",
    "        else: \n",
    "            print(\"The number is even.\") \n",
    "\n",
    "num = int(input(\"Enter a number: \")) \n",
    "result = odd_Cube_root(num) \n",
    "\n",
    "if result is not None: \n",
    "    print(f\"The cube root of {num} is {result:.2f}\") \n"
   ]
  },
  {
   "cell_type": "code",
   "execution_count": null,
   "id": "4c145eac",
   "metadata": {},
   "outputs": [],
   "source": [
    "# 2\n",
    "numbers = [10, 3, 4, 6, 35, 9, 3, 12]\n",
    "\n",
    "even_numbers = [num for num in numbers if num % 2 == 0]\n",
    "\n",
    "print(\"Even numbers:\", even_numbers)\n"
   ]
  },
  {
   "cell_type": "code",
   "execution_count": null,
   "id": "d39f2a68",
   "metadata": {},
   "outputs": [],
   "source": [
    "# 3 \n",
    "my_string = \"Will I succeed if I tried that trick?\" \n",
    "\n",
    "modified_string_list = [ \n",
    "    word.lower() for word in my_string.split() if len(word) > 2 \n",
    "] \n",
    "\n",
    "modified_string = ' '.join(modified_string_list) \n",
    "\n",
    "print(\"Modified string:\", modified_string) "
   ]
  },
  {
   "cell_type": "code",
   "execution_count": null,
   "id": "8a4ec7e9",
   "metadata": {},
   "outputs": [],
   "source": [
    "# 4 \n",
    "def unique_elements(input_list): \n",
    "    unique_list = [] \n",
    "    for item in input_list: \n",
    "        if item not in unique_list: \n",
    "            unique_list.append(item) \n",
    "    return unique_list \n",
    "\n",
    "test_list = [1, 2, 3, 3, 4, 5, 5, 6] \n",
    "result = unique_elements(test_list) \n",
    "print(\"Unique elements:\", result) \n"
   ]
  },
  {
   "cell_type": "code",
   "execution_count": null,
   "id": "6e0ebffb",
   "metadata": {},
   "outputs": [],
   "source": [
    "# 5 \n",
    "HOTEL_COST_PER_NIGHT = 140 \n",
    "RENTAL_CAR_COST_PER_DAY = 40 \n",
    "AIRFARES = { \n",
    "    \"Charlotte\": 183, \n",
    "    \"Tampa\": 220, \n",
    "    \"Pittsburgh\": 222, \n",
    "    \"Atlanta\": 475 \n",
    "} \n",
    "\n",
    "def compute_hotel_cost(num_days): \n",
    "    return num_days * HOTEL_COST_PER_NIGHT \n",
    "\n",
    "def determine_airfare(city): \n",
    "    return AIRFARES.get(city, 0) \n",
    "\n",
    "def compute_rental_car_cost(num_days): \n",
    "    return num_days * RENTAL_CAR_COST_PER_DAY \n",
    "\n",
    "def calculate_total_trip_cost(city, num_days, spending_money_per_day): \n",
    "    hotel_cost = compute_hotel_cost(num_days)\n",
    "    airfare = determine_airfare(city) \n",
    "    rental_car_cost = compute_rental_car_cost(num_days) \n",
    "    total_spending_money = num_days * spending_money_per_day \n",
    "\n",
    "    total_cost = hotel_cost + airfare + rental_car_cost + total_spending_money \n",
    "    return total_cost \n",
    "\n",
    "def main(): \n",
    "    city = input(\"Enter the destination city (Charlotte, Tampa, Pittsburgh, Atlanta): \").strip().title()\n",
    "    num_days = int(input(\"Enter the number of days of stay: \"))\n",
    "    spending_money_per_day = float(input(\"Enter the spending money required per day: \")) \n",
    "\n",
    "    total_cost = calculate_total_trip_cost(city, num_days, spending_money_per_day) \n",
    "    print(\"Total trip cost:\", total_cost) \n",
    "\n",
    "if __name__ == \"__main__\": \n",
    "    main() \n",
    "\n"
   ]
  },
  {
   "cell_type": "code",
   "execution_count": null,
   "id": "9df4b1cb",
   "metadata": {},
   "outputs": [],
   "source": [
    "# 6\n",
    "def checker_board_gen(rows, cols, element1, element2):\n",
    "    if element1 == element2:\n",
    "        return \"Invalid\"\n",
    "\n",
    "    data = []\n",
    "    for i in range(rows):\n",
    "        row = []\n",
    "        for j in range(cols):\n",
    "            if (i + j) % 2 == 0:\n",
    "                row.append(element1)\n",
    "            else:\n",
    "                row.append(element2)\n",
    "        data.append(row)\n",
    "    return data\n",
    "\n",
    "if __name__ == '__main__':\n",
    "    print(\"How many rows and columns (n x n)?\")\n",
    "    rows = int(input(\"n -> \"))\n",
    "    cols = rows\n",
    "    print(\"What are the strings with which to pattern it?\")\n",
    "    first = input(\"FIRST> \")\n",
    "    second = input(\"SECOND> \")\n",
    "    board = checker_board_gen(rows, cols, first, second)\n",
    "\n",
    "    if board == \"Invalid\":\n",
    "        print(\"Invalid.\")\n",
    "    else:\n",
    "        print(\"A checkerboard with\", rows, \"rows and\", cols, \"columns, first string is\", first,\n",
    "              \", and second string is\", second, \"is:\")\n",
    "        for row in board:\n",
    "            print(\"OUTPUT\", row) \n"
   ]
  },
  {
   "cell_type": "code",
   "execution_count": null,
   "id": "ca8e8c66",
   "metadata": {},
   "outputs": [],
   "source": []
  }
 ],
 "metadata": {
  "kernelspec": {
   "display_name": "Python 3 (ipykernel)",
   "language": "python",
   "name": "python3"
  },
  "language_info": {
   "codemirror_mode": {
    "name": "ipython",
    "version": 3
   },
   "file_extension": ".py",
   "mimetype": "text/x-python",
   "name": "python",
   "nbconvert_exporter": "python",
   "pygments_lexer": "ipython3",
   "version": "3.11.5"
  }
 },
 "nbformat": 4,
 "nbformat_minor": 5
}
